{
  "nbformat": 4,
  "nbformat_minor": 0,
  "metadata": {
    "colab": {
      "name": "Untitled0.ipynb",
      "provenance": [],
      "collapsed_sections": []
    },
    "kernelspec": {
      "name": "python3",
      "display_name": "Python 3"
    }
  },
  "cells": [
    {
      "cell_type": "code",
      "metadata": {
        "colab": {
          "base_uri": "https://localhost:8080/"
        },
        "id": "1N4I7yoyz9_U",
        "outputId": "ad7024b6-82d2-4a72-d9d1-0056bc0d5b57"
      },
      "source": [
        "!pip install clean-text"
      ],
      "execution_count": 1,
      "outputs": [
        {
          "output_type": "stream",
          "text": [
            "Collecting clean-text\n",
            "  Downloading https://files.pythonhosted.org/packages/78/30/7013e9bf37e00ad81406c771e8f5b071c624b8ab27a7984cd9b8434bed4f/clean_text-0.3.0-py3-none-any.whl\n",
            "Collecting emoji\n",
            "\u001b[?25l  Downloading https://files.pythonhosted.org/packages/ff/1c/1f1457fe52d0b30cbeebfd578483cedb3e3619108d2d5a21380dfecf8ffd/emoji-0.6.0.tar.gz (51kB)\n",
            "\u001b[K     |████████████████████████████████| 51kB 3.8MB/s \n",
            "\u001b[?25hCollecting ftfy<6.0,>=5.8\n",
            "\u001b[?25l  Downloading https://files.pythonhosted.org/packages/ff/e2/3b51c53dffb1e52d9210ebc01f1fb9f2f6eba9b3201fa971fd3946643c71/ftfy-5.8.tar.gz (64kB)\n",
            "\u001b[K     |████████████████████████████████| 71kB 5.6MB/s \n",
            "\u001b[?25hRequirement already satisfied: wcwidth in /usr/local/lib/python3.6/dist-packages (from ftfy<6.0,>=5.8->clean-text) (0.2.5)\n",
            "Building wheels for collected packages: emoji, ftfy\n",
            "  Building wheel for emoji (setup.py) ... \u001b[?25l\u001b[?25hdone\n",
            "  Created wheel for emoji: filename=emoji-0.6.0-cp36-none-any.whl size=49715 sha256=9b4fcd79d56d712eb02340fe00c285ce2c933d5d97511fa22f5ed7f962f2846e\n",
            "  Stored in directory: /root/.cache/pip/wheels/46/2c/8b/9dcf5216ca68e14e0320e283692dce8ae321cdc01e73e17796\n",
            "  Building wheel for ftfy (setup.py) ... \u001b[?25l\u001b[?25hdone\n",
            "  Created wheel for ftfy: filename=ftfy-5.8-cp36-none-any.whl size=45613 sha256=d3a491d3da779c3125fcdb4baec259a256c0fff0c514fb9c072a36314d008803\n",
            "  Stored in directory: /root/.cache/pip/wheels/ba/c0/ef/f28c4da5ac84a4e06ac256ca9182fc34fa57fefffdbc68425b\n",
            "Successfully built emoji ftfy\n",
            "Installing collected packages: emoji, ftfy, clean-text\n",
            "Successfully installed clean-text-0.3.0 emoji-0.6.0 ftfy-5.8\n"
          ],
          "name": "stdout"
        }
      ]
    },
    {
      "cell_type": "code",
      "metadata": {
        "colab": {
          "base_uri": "https://localhost:8080/"
        },
        "id": "N4C6F0UI0ACI",
        "outputId": "0f4d1697-ca9b-448c-b935-ccaef09631b4"
      },
      "source": [
        "from cleantext import clean"
      ],
      "execution_count": 2,
      "outputs": [
        {
          "output_type": "stream",
          "text": [
            "Since the GPL-licensed package `unidecode` is not installed, using Python's `unicodedata` package which yields worse results.\n"
          ],
          "name": "stderr"
        }
      ]
    },
    {
      "cell_type": "markdown",
      "metadata": {
        "id": "BbTzq0TP06d0"
      },
      "source": [
        "# Unicode"
      ]
    },
    {
      "cell_type": "code",
      "metadata": {
        "id": "awq3sJC50CxN"
      },
      "source": [
        "s1 = 'Zürich'"
      ],
      "execution_count": 3,
      "outputs": []
    },
    {
      "cell_type": "code",
      "metadata": {
        "colab": {
          "base_uri": "https://localhost:8080/",
          "height": 35
        },
        "id": "EtfWnOal0UFj",
        "outputId": "0d9bbe6e-61de-4bc8-f3b7-550cb841af95"
      },
      "source": [
        "clean(s1, fix_unicode=True)"
      ],
      "execution_count": 4,
      "outputs": [
        {
          "output_type": "execute_result",
          "data": {
            "application/vnd.google.colaboratory.intrinsic+json": {
              "type": "string"
            },
            "text/plain": [
              "'zurich'"
            ]
          },
          "metadata": {
            "tags": []
          },
          "execution_count": 4
        }
      ]
    },
    {
      "cell_type": "markdown",
      "metadata": {
        "id": "u-TLcRJB37QI"
      },
      "source": [
        "# Closest ASCII representation"
      ]
    },
    {
      "cell_type": "code",
      "metadata": {
        "id": "uy7HKg3m1JhB"
      },
      "source": [
        "s2 = \"ko\\u017eu\\u0161\\u010dek\""
      ],
      "execution_count": 5,
      "outputs": []
    },
    {
      "cell_type": "code",
      "metadata": {
        "colab": {
          "base_uri": "https://localhost:8080/",
          "height": 35
        },
        "id": "yJY7nHsO1QJb",
        "outputId": "533909a8-59c3-4ec0-b6d3-c1d61b11462d"
      },
      "source": [
        "clean(s2, to_ascii=True)"
      ],
      "execution_count": 6,
      "outputs": [
        {
          "output_type": "execute_result",
          "data": {
            "application/vnd.google.colaboratory.intrinsic+json": {
              "type": "string"
            },
            "text/plain": [
              "'kozuscek'"
            ]
          },
          "metadata": {
            "tags": []
          },
          "execution_count": 6
        }
      ]
    },
    {
      "cell_type": "markdown",
      "metadata": {
        "id": "3fKWpKlw4F20"
      },
      "source": [
        "# Lower Case"
      ]
    },
    {
      "cell_type": "code",
      "metadata": {
        "id": "PB9U72_V1RLx"
      },
      "source": [
        "s3 = \"My Name is Bhavesh\""
      ],
      "execution_count": 7,
      "outputs": []
    },
    {
      "cell_type": "code",
      "metadata": {
        "colab": {
          "base_uri": "https://localhost:8080/",
          "height": 35
        },
        "id": "FRzVPiOl4Kfj",
        "outputId": "369b18f2-627c-478a-d6b4-b91de6a30c9e"
      },
      "source": [
        "clean(s3, lower=True)"
      ],
      "execution_count": 8,
      "outputs": [
        {
          "output_type": "execute_result",
          "data": {
            "application/vnd.google.colaboratory.intrinsic+json": {
              "type": "string"
            },
            "text/plain": [
              "'my name is bhavesh'"
            ]
          },
          "metadata": {
            "tags": []
          },
          "execution_count": 8
        }
      ]
    },
    {
      "cell_type": "markdown",
      "metadata": {
        "id": "URW2c1wi4XbK"
      },
      "source": [
        "# Replace URLs"
      ]
    },
    {
      "cell_type": "code",
      "metadata": {
        "id": "CRItH3YV4NWj"
      },
      "source": [
        "s4 = \"https://www.Google.com has surpassed https://www.Bing.com in search volume\""
      ],
      "execution_count": 9,
      "outputs": []
    },
    {
      "cell_type": "code",
      "metadata": {
        "colab": {
          "base_uri": "https://localhost:8080/",
          "height": 35
        },
        "id": "pD33YbZO4fZm",
        "outputId": "67f71e51-83f2-4344-bf0c-704e93971fae"
      },
      "source": [
        "clean(s4, no_urls=True, replace_with_url=\"URL\")"
      ],
      "execution_count": 10,
      "outputs": [
        {
          "output_type": "execute_result",
          "data": {
            "application/vnd.google.colaboratory.intrinsic+json": {
              "type": "string"
            },
            "text/plain": [
              "'url has surpassed url in search volume'"
            ]
          },
          "metadata": {
            "tags": []
          },
          "execution_count": 10
        }
      ]
    },
    {
      "cell_type": "markdown",
      "metadata": {
        "id": "tfW82L2N8dtk"
      },
      "source": [
        "# Replace Currency"
      ]
    },
    {
      "cell_type": "code",
      "metadata": {
        "id": "KP9-d4Xz8c1u"
      },
      "source": [
        "s5 = \"I want ₹ 40\""
      ],
      "execution_count": 11,
      "outputs": []
    },
    {
      "cell_type": "code",
      "metadata": {
        "colab": {
          "base_uri": "https://localhost:8080/",
          "height": 35
        },
        "id": "oQigJS1b8wYb",
        "outputId": "e37050f2-42e0-4293-a2cf-4a570cbb9617"
      },
      "source": [
        "clean(s5, \r\n",
        "      no_currency_symbols = True)"
      ],
      "execution_count": 12,
      "outputs": [
        {
          "output_type": "execute_result",
          "data": {
            "application/vnd.google.colaboratory.intrinsic+json": {
              "type": "string"
            },
            "text/plain": [
              "'i want <cur> 40'"
            ]
          },
          "metadata": {
            "tags": []
          },
          "execution_count": 12
        }
      ]
    },
    {
      "cell_type": "code",
      "metadata": {
        "colab": {
          "base_uri": "https://localhost:8080/",
          "height": 35
        },
        "id": "gwH0wX5N8dAH",
        "outputId": "6655876b-043d-40e4-a0b2-941fced5c43e"
      },
      "source": [
        "clean(s5, \r\n",
        "      no_currency_symbols = True, \r\n",
        "      replace_with_currency_symbol=\"Rupees\")"
      ],
      "execution_count": 13,
      "outputs": [
        {
          "output_type": "execute_result",
          "data": {
            "application/vnd.google.colaboratory.intrinsic+json": {
              "type": "string"
            },
            "text/plain": [
              "'i want rupees 40'"
            ]
          },
          "metadata": {
            "tags": []
          },
          "execution_count": 13
        }
      ]
    },
    {
      "cell_type": "markdown",
      "metadata": {
        "id": "3XHanRxP86Ng"
      },
      "source": [
        "# Replace punctuations"
      ]
    },
    {
      "cell_type": "code",
      "metadata": {
        "id": "Ub9kYWV38bwo"
      },
      "source": [
        "s6 = \"40,000 is greater than 30,000\""
      ],
      "execution_count": 14,
      "outputs": []
    },
    {
      "cell_type": "code",
      "metadata": {
        "colab": {
          "base_uri": "https://localhost:8080/",
          "height": 35
        },
        "id": "MengWH1y9CM6",
        "outputId": "fcbe2a85-d7ec-409e-c4ac-6fdc1b1fd7c6"
      },
      "source": [
        "clean(s6, no_punct = True)"
      ],
      "execution_count": 15,
      "outputs": [
        {
          "output_type": "execute_result",
          "data": {
            "application/vnd.google.colaboratory.intrinsic+json": {
              "type": "string"
            },
            "text/plain": [
              "'40000 is greater than 30000'"
            ]
          },
          "metadata": {
            "tags": []
          },
          "execution_count": 15
        }
      ]
    },
    {
      "cell_type": "code",
      "metadata": {
        "colab": {
          "base_uri": "https://localhost:8080/",
          "height": 35
        },
        "id": "k1odvXYk9G5d",
        "outputId": "468e9a6d-af5b-402b-9781-cdc9a300bec2"
      },
      "source": [
        "clean(s6, no_punct = True, replace_with_punct = \"7\")"
      ],
      "execution_count": 16,
      "outputs": [
        {
          "output_type": "execute_result",
          "data": {
            "application/vnd.google.colaboratory.intrinsic+json": {
              "type": "string"
            },
            "text/plain": [
              "'407000 is greater than 307000'"
            ]
          },
          "metadata": {
            "tags": []
          },
          "execution_count": 16
        }
      ]
    },
    {
      "cell_type": "markdown",
      "metadata": {
        "id": "DhX8Iy9F9YV6"
      },
      "source": [
        "# Remove Numbers"
      ]
    },
    {
      "cell_type": "code",
      "metadata": {
        "id": "5gX567Uz9OoE"
      },
      "source": [
        "s7 = 'abc123def456ghi789zero0'"
      ],
      "execution_count": 17,
      "outputs": []
    },
    {
      "cell_type": "code",
      "metadata": {
        "colab": {
          "base_uri": "https://localhost:8080/",
          "height": 35
        },
        "id": "C74CSUpD9a2P",
        "outputId": "b11ddda3-c0c5-44ec-b4d0-974e95db40a6"
      },
      "source": [
        "clean(s7, no_digits = True)"
      ],
      "execution_count": 18,
      "outputs": [
        {
          "output_type": "execute_result",
          "data": {
            "application/vnd.google.colaboratory.intrinsic+json": {
              "type": "string"
            },
            "text/plain": [
              "'abc000def000ghi000zero0'"
            ]
          },
          "metadata": {
            "tags": []
          },
          "execution_count": 18
        }
      ]
    },
    {
      "cell_type": "code",
      "metadata": {
        "colab": {
          "base_uri": "https://localhost:8080/",
          "height": 35
        },
        "id": "huzCllRs9gN-",
        "outputId": "74c6b943-0da4-4b84-fee5-cabdff9fffc8"
      },
      "source": [
        "clean(s7, no_digits = True, replace_with_digit=\"\")"
      ],
      "execution_count": 19,
      "outputs": [
        {
          "output_type": "execute_result",
          "data": {
            "application/vnd.google.colaboratory.intrinsic+json": {
              "type": "string"
            },
            "text/plain": [
              "'abcdefghizero'"
            ]
          },
          "metadata": {
            "tags": []
          },
          "execution_count": 19
        }
      ]
    },
    {
      "cell_type": "markdown",
      "metadata": {
        "id": "S_YFxfIP95EM"
      },
      "source": [
        "# Combining it all"
      ]
    },
    {
      "cell_type": "code",
      "metadata": {
        "id": "bP5W7zKX9t2w"
      },
      "source": [
        "s8 = \"\"\"\r\n",
        "Zürich has a famous website https://www.zuerich.com/ \r\n",
        "WHICH ACCEPTS 40,000 € and adding a random string, :\r\n",
        "abc123def456ghi789zero0 for this demo. ' \r\n",
        "     \"\"\""
      ],
      "execution_count": 20,
      "outputs": []
    },
    {
      "cell_type": "code",
      "metadata": {
        "colab": {
          "base_uri": "https://localhost:8080/",
          "height": 35
        },
        "id": "7hIX60Gd-qQX",
        "outputId": "c4cca852-8db0-4cb1-8888-c49a1cbd6286"
      },
      "source": [
        "clean(s8, \r\n",
        "      fix_unicode=True, \r\n",
        "      to_ascii=True, \r\n",
        "      lower=True, \r\n",
        "      no_urls=True, \r\n",
        "      no_numbers=True, \r\n",
        "      no_digits=True, \r\n",
        "      no_currency_symbols=True, \r\n",
        "      no_punct=True, \r\n",
        "      replace_with_punct=\"\", \r\n",
        "      replace_with_url=\"<URL>\", \r\n",
        "      replace_with_number=\"<NUMBER>\", \r\n",
        "      replace_with_digit=\"\", \r\n",
        "      replace_with_currency_symbol=\"<CUR>\")"
      ],
      "execution_count": 21,
      "outputs": [
        {
          "output_type": "execute_result",
          "data": {
            "application/vnd.google.colaboratory.intrinsic+json": {
              "type": "string"
            },
            "text/plain": [
              "'zurich has a famous website <url> which accepts <number> <cur> and adding a random string abcdefghizero for this demo'"
            ]
          },
          "metadata": {
            "tags": []
          },
          "execution_count": 21
        }
      ]
    },
    {
      "cell_type": "code",
      "metadata": {
        "id": "mD8jDDPM-xZN"
      },
      "source": [
        ""
      ],
      "execution_count": 21,
      "outputs": []
    }
  ]
}